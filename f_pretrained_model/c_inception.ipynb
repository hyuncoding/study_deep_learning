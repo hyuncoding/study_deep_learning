{
 "cells": [
  {
   "cell_type": "markdown",
   "id": "30395eb3-ab58-42dd-b0ec-e021cc1aa558",
   "metadata": {},
   "source": [
    "### Inception Network (GoogLeNet)\n",
    "\n",
    "- 여러 사이즈의 커널들을 한꺼번에 결합하는 방식을 사용하며, 이를 묶어서 `inception module` 이라고 한다.\n",
    "- 여러 개의 `inception module`을 연속적으로 이어서 구성하고 여러 사이즈의 필터들이 서로 다른 공간 기반으로 `feature`들을 추출한다.\n",
    "- `inception module`을 결합하면서 보다 풍부한 `Feature Extractor Layer`를 구성하게 된다.\n",
    "- 하지만 여러 사이즈의 커널을 결합하게 되면, `Convolution` 연산을 수행할 때 파라미터 수가 증가되고 과적합으로 이어진다.\n",
    "- 이를 극복하고자 연산을 수행하기 전에 `1X1 Convolution`을 적용해서 파라미터 수를 획기적으로 감소시킨다.\n",
    "- `1X1 Convolution`을 적용하면 입력 데이터의 특징을 함축적으로 표현하면서 파라미터 수를 줄이는 차원 축소 역할을 수행하게 된다.\n",
    "\n",
    "<img src=\"./images/GoogLeNet.png\" width=\"550\" style=\"margin-top:20px; margin-left: 0\">\n",
    "<img src=\"./images/Inception_Network.png\" width=\"900\" style=\"margin-top:20px; margin-left: 0\">\n",
    "\n",
    "#### 1X1 Convolution\n",
    "\n",
    "- 행과 열의 크기 변환 없이 `Channel`의 수를 조절할 수 있고, `weight` 및 비선형성을 추가하는 역할을 한다.\n",
    "- 행과 열의 사이즈를 줄이고 싶다면, `Pooling`을 사용하면 되고, 채널 수만 줄이고 싶다면 `1X1 Convolution`을 사용하면 된다.\n",
    "\n",
    "<img src=\"./images/1x1.png\" width=\"800\">"
   ]
  },
  {
   "cell_type": "code",
   "execution_count": null,
   "id": "16c02c34-25f6-4ebd-95ed-a5568bce4969",
   "metadata": {},
   "outputs": [],
   "source": []
  }
 ],
 "metadata": {
  "kernelspec": {
   "display_name": "Python 3 (ipykernel)",
   "language": "python",
   "name": "python3"
  },
  "language_info": {
   "codemirror_mode": {
    "name": "ipython",
    "version": 3
   },
   "file_extension": ".py",
   "mimetype": "text/x-python",
   "name": "python",
   "nbconvert_exporter": "python",
   "pygments_lexer": "ipython3",
   "version": "3.11.8"
  }
 },
 "nbformat": 4,
 "nbformat_minor": 5
}
