{
 "cells": [
  {
   "cell_type": "markdown",
   "id": "aa01cf82-d7fb-4041-9522-8dc43b93a3e7",
   "metadata": {},
   "source": [
    "### ResNet (마이크로소프트)\n",
    "\n",
    "- `VGG` 이후 더 깊은 `Network`에 대한 연구가 증가했지만, `Network` 깊이가 깊어질 수록 오히려 `accuracy`가 떨어지는 문제가 있었다.\n",
    "- 층이 깊어질 수록 계속해서 기울기가 0에 가까워지는 `Gradient vanishing`이 발생하기 때문이다.\n",
    "\n",
    "<img src=\"./images/ResNet01.png\" width=\"400\">\n",
    "\n",
    "- 이를 해결하고자 층을 만들되, Input 데이터와 결과가 동일하게 나올 수 있도록 하는 층을 연구하기 시작했다.  \n",
    "  함수로 나타내면 `H(x) = x`이다.\n",
    "- 하지만 활성화 함수를 통과한 값을 기존 Input 데이터와 동일하게 만드는 것은 굉장히 복잡했기 때문에  \n",
    "  `H(x) = F(x) + x` 즉, `F(x)`를 0으로 만드는 `F(x)`에 포커스를 하게 된다.\n",
    "- `input`은 `x`이고, `Model`인 `F(x)`라는 일련의 과정을 거치면서 자신인 `x`가 더해져서 `output`으로 `F(x) + x`가 나오는 구조가 된다.\n",
    "\n",
    "<img src=\"./images/ResNet02.png\" style=\"margin:30px; margin-left: 0;\">\n",
    "<img src=\"./images/ResNet03.png\" width=\"400\" style=\"margin:30px; margin-left: 0;\">"
   ]
  },
  {
   "cell_type": "code",
   "execution_count": null,
   "id": "a831fc51-bfdd-4ed0-91cd-ab194a08a7b4",
   "metadata": {},
   "outputs": [],
   "source": []
  },
  {
   "cell_type": "code",
   "execution_count": null,
   "id": "96bed9a8-0ac0-4d7d-87be-41200573432a",
   "metadata": {},
   "outputs": [],
   "source": []
  },
  {
   "cell_type": "code",
   "execution_count": null,
   "id": "01648d82-6c09-4167-a101-cb5f914e7234",
   "metadata": {},
   "outputs": [],
   "source": []
  },
  {
   "cell_type": "code",
   "execution_count": null,
   "id": "cc497c62-ae1c-4ad5-8fc4-2a39bb6bd514",
   "metadata": {},
   "outputs": [],
   "source": []
  },
  {
   "cell_type": "code",
   "execution_count": null,
   "id": "2de57684-53cd-4a97-818f-10addc7fb9cb",
   "metadata": {},
   "outputs": [],
   "source": []
  },
  {
   "cell_type": "code",
   "execution_count": null,
   "id": "6ee593f7-4bd2-4693-9343-1dc8adb1e454",
   "metadata": {},
   "outputs": [],
   "source": []
  },
  {
   "cell_type": "code",
   "execution_count": null,
   "id": "db7bbf5a-13f6-4382-a7bf-00211067decd",
   "metadata": {},
   "outputs": [],
   "source": []
  },
  {
   "cell_type": "code",
   "execution_count": null,
   "id": "e75c86d0-8994-4d01-b20c-32aeed0b72ea",
   "metadata": {},
   "outputs": [],
   "source": []
  },
  {
   "cell_type": "code",
   "execution_count": null,
   "id": "638ceb0d-dd86-44eb-8d7f-b276800e2752",
   "metadata": {},
   "outputs": [],
   "source": []
  }
 ],
 "metadata": {
  "kernelspec": {
   "display_name": "Python 3 (ipykernel)",
   "language": "python",
   "name": "python3"
  },
  "language_info": {
   "codemirror_mode": {
    "name": "ipython",
    "version": 3
   },
   "file_extension": ".py",
   "mimetype": "text/x-python",
   "name": "python",
   "nbconvert_exporter": "python",
   "pygments_lexer": "ipython3",
   "version": "3.11.8"
  }
 },
 "nbformat": 4,
 "nbformat_minor": 5
}
